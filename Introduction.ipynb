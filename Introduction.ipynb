{
  "cells": [
    {
      "cell_type": "markdown",
      "metadata": {
        "collapsed": true,
        "pycharm": {
          "name": "#%% md\n"
        }
      },
      "source": "# Dash Python - Introduction\n\n[Dash website](https://dash.plot.ly/)  \n[Dash tutorial](https://dash.plot.ly/installation)"
    },
    {
      "cell_type": "markdown",
      "source": "## Dash installation\nInstall the required packages\n```bash\npip install dash\u003d\u003d0.39.0  # The core dash backend\npip install dash-html-components\u003d\u003d0.14.0  # HTML components\npip install dash-core-components\u003d\u003d0.44.0  # Supercharged components\npip install dash-table\u003d\u003d3.6.0  # Interactive DataTable component (new!)\npip install dash-daq\u003d\u003d0.1.0  # DAQ components (newly open-sourced!)\n``` ",
      "metadata": {
        "pycharm": {
          "metadata": false
        }
      }
    },
    {
      "cell_type": "markdown",
      "source": "## Dash layout\nCreate a python file `app.py`\n### Load the required libraries\n```python\nimport dash\nimport dash_core_components as dcc\nimport dash_html_components as html\n```\n\nCreate the app object, you can pass an external stylesheet object to it\n\n```python\nexternal_stylesheets \u003d [\u0027https://codepen.io/chriddyp/pen/bWLwgP.css\u0027]\napp \u003d dash.Dash(__name__, external_stylesheets\u003dexternal_stylesheets)\n\nif __name__ \u003d\u003d \u0027__main__\u0027:\n    app.run_server(debug\u003dTrue)\n```\nThe option `debug\u003dTrue` activates the \"hot-reloading\" feature.\nhas is Dash is going to monitor if you app is changed and immediately refresh your browser\nto show changes on the client. \n\nAdd a `layout` to the app object by using HTML and Supercharged components\n\n```python\napp.layout \u003d html.Div(children\u003d[\n    html.H1(children\u003d\u0027Hello Dash\u0027),\n\n    html.Div(children\u003d\u0027\u0027\u0027\n        Dash: A web application framework for Python.\n    \u0027\u0027\u0027),\n\n    dcc.Graph(\n        id\u003d\u0027example-graph\u0027,\n        figure\u003d{\n            \u0027data\u0027: [\n                {\u0027x\u0027: [1, 2, 3], \u0027y\u0027: [4, 1, 2], \u0027type\u0027: \u0027bar\u0027, \u0027name\u0027: \u0027SF\u0027},\n                {\u0027x\u0027: [1, 2, 3], \u0027y\u0027: [2, 4, 5], \u0027type\u0027: \u0027bar\u0027, \u0027name\u0027: u\u0027Montréal\u0027},\n            ],\n            \u0027layout\u0027: {\n                \u0027title\u0027: \u0027Dash Data Visualization\u0027\n            }\n        }\n    )\n])\n```\n\nThen run the app.\n\n```bash\n$ python app.py\n...Running on http://127.0.0.1:8050/ (Press CTRL+C to quit)\n```\n\nBy default, it will listen on the `localhost` at port `8050`.",
      "metadata": {
        "pycharm": {
          "metadata": false
        }
      }
    },
    {
      "cell_type": "markdown",
      "source": "### Adding style to HTML components\n```python\ncolors \u003d {\n    \u0027background\u0027: \u0027#111111\u0027,\n    \u0027text\u0027: \u0027#7FDBFF\u0027\n}\n\napp.layout \u003d html.Div(style\u003d{\u0027backgroundColor\u0027: colors[\u0027background\u0027]}, children\u003d[\n    html.H1(\n        children\u003d\u0027Hello Dash\u0027,\n        style\u003d{\n            \u0027textAlign\u0027: \u0027center\u0027,\n            \u0027color\u0027: colors[\u0027text\u0027]\n        }\n    ),\n\n    html.Div(children\u003d\u0027Dash: A web application framework for Python.\u0027, style\u003d{\n        \u0027textAlign\u0027: \u0027center\u0027,\n        \u0027color\u0027: colors[\u0027text\u0027]\n    }),\n\n    dcc.Graph(\n        id\u003d\u0027example-graph-2\u0027,\n        figure\u003d{\n            \u0027data\u0027: [\n                {\u0027x\u0027: [1, 2, 3], \u0027y\u0027: [4, 1, 2], \u0027type\u0027: \u0027bar\u0027, \u0027name\u0027: \u0027SF\u0027},\n                {\u0027x\u0027: [1, 2, 3], \u0027y\u0027: [2, 4, 5], \u0027type\u0027: \u0027bar\u0027, \u0027name\u0027: u\u0027Montréal\u0027},\n            ],\n            \u0027layout\u0027: {\n                \u0027plot_bgcolor\u0027: colors[\u0027background\u0027],\n                \u0027paper_bgcolor\u0027: colors[\u0027background\u0027],\n                \u0027font\u0027: {\n                    \u0027color\u0027: colors[\u0027text\u0027]\n                }\n            }\n        }\n    )\n])\n\n```\n\nRemind that styles are:\n- given as a `dictionary`  \n- in camelCased form: use `textAlign` for \"text-align\"  \n\nUse `className` property to refer to HTML `class`\n",
      "metadata": {
        "pycharm": {
          "metadata": false
        }
      }
    },
    {
      "cell_type": "markdown",
      "source": "## Adding Reusable Components\n\nWe start by reading some data\n```python\nimport pandas as pd\n\ndf \u003d pd.read_csv(\n    \u0027https://forge.scilab.org/index.php/p/rdataset/\u0027\n    \u0027source/tree/master/csv/ggplot2/msleep.csv\u0027)\n```\n\nto write a function that given a dataset prints an HTML table\n```python\ndef generate_table(dataframe, max_rows\u003d10):\n    return html.Table(\n        # Header\n        [html.Tr([html.Th(col) for col in dataframe.columns])] +\n\n        # Body\n        [html.Tr([\n            html.Td(dataframe.iloc[i][col]) for col in dataframe.columns\n        ]) for i in range(min(len(dataframe), max_rows))]\n    )\n```\n\nand then we add it at the end of our layout\n```python\n    generate_table(df)\n```\n",
      "metadata": {
        "pycharm": {
          "metadata": false,
          "name": "#%% md\n"
        }
      }
    },
    {
      "cell_type": "markdown",
      "source": "## A more sofisticated graph\n\nImport the `plotly.graph_objs` library\n```python\nimport plotly.graph_objs as go\n```\n\nand replace the previous existing `dcc.Graph` in our layout with the following one\n```python\n    dcc.Graph(\n            id\u003d\u0027life-exp-vs-gdp\u0027,\n            figure\u003d{\n                \u0027data\u0027: [\n                    go.Scatter(\n                        x\u003ddf[df[\u0027continent\u0027] \u003d\u003d i][\u0027gdp per capita\u0027],\n                        y\u003ddf[df[\u0027continent\u0027] \u003d\u003d i][\u0027life expectancy\u0027],\n                        text\u003ddf[df[\u0027continent\u0027] \u003d\u003d i][\u0027country\u0027],\n                        mode\u003d\u0027markers\u0027,\n                        opacity\u003d0.7,\n                        marker\u003d{\n                            \u0027size\u0027: 15,\n                            \u0027line\u0027: {\u0027width\u0027: 0.5, \u0027color\u0027: \u0027white\u0027}\n                        },\n                        name\u003di\n                    ) for i in df.continent.unique()\n                ],\n                \u0027layout\u0027: go.Layout(\n                    xaxis\u003d{\u0027type\u0027: \u0027log\u0027, \u0027title\u0027: \u0027GDP Per Capita\u0027},\n                    yaxis\u003d{\u0027title\u0027: \u0027Life Expectancy\u0027},\n                    margin\u003d{\u0027l\u0027: 40, \u0027b\u0027: 40, \u0027t\u0027: 10, \u0027r\u0027: 10},\n                    legend\u003d{\u0027x\u0027: 0, \u0027y\u0027: 1},\n                    hovermode\u003d\u0027closest\u0027\n                )\n            }\n        )\n```\n",
      "metadata": {
        "pycharm": {
          "metadata": false,
          "name": "#%% md\n"
        }
      }
    },
    {
      "cell_type": "markdown",
      "source": "## Adding some Markdown content\n\nThe `Markdown` component in the `dash_core_components` library\nallows to simply include in the layout some markdown content.\n\nDefine the markdown test\n```python\nmarkdown_text \u003d \u0027\u0027\u0027\n### Dash and Markdown\n\nDash apps can be written in Markdown.\nDash uses the [CommonMark](http://commonmark.org/)\nspecification of Markdown.\nCheck out their [60 Second Markdown Tutorial](http://commonmark.org/help/)\nif this is your first introduction to Markdown!\n\u0027\u0027\u0027\n```\n\nand then include them at the beginning of the layout\nby calling the `Markdown` component\n```python\n    dcc.Markdown(children\u003dmarkdown_text)\n```\n\nBy doing so remove the first two HTML components, \n`html.H1` and `html.div`,\ntogether with the styles.\n",
      "metadata": {
        "pycharm": {
          "metadata": false
        }
      }
    },
    {
      "cell_type": "markdown",
      "source": "## Core Components\n\nTo see the set of widgets component included in the\n`dash_core_components` library add the following `html.Div`\n at the end of the layout.\n```python\n    html.Div([\n        html.Label(\u0027Dropdown\u0027),\n        dcc.Dropdown(\n            options\u003d[\n                {\u0027label\u0027: \u0027New York City\u0027, \u0027value\u0027: \u0027NYC\u0027},\n                {\u0027label\u0027: u\u0027Montréal\u0027, \u0027value\u0027: \u0027MTL\u0027},\n                {\u0027label\u0027: \u0027San Francisco\u0027, \u0027value\u0027: \u0027SF\u0027}\n            ],\n            value\u003d\u0027MTL\u0027\n        ),\n    \n        html.Label(\u0027Multi-Select Dropdown\u0027),\n        dcc.Dropdown(\n            options\u003d[\n                {\u0027label\u0027: \u0027New York City\u0027, \u0027value\u0027: \u0027NYC\u0027},\n                {\u0027label\u0027: u\u0027Montréal\u0027, \u0027value\u0027: \u0027MTL\u0027},\n                {\u0027label\u0027: \u0027San Francisco\u0027, \u0027value\u0027: \u0027SF\u0027}\n            ],\n            value\u003d[\u0027MTL\u0027, \u0027SF\u0027],\n            multi\u003dTrue\n        ),\n    \n        html.Label(\u0027Radio Items\u0027),\n        dcc.RadioItems(\n            options\u003d[\n                {\u0027label\u0027: \u0027New York City\u0027, \u0027value\u0027: \u0027NYC\u0027},\n                {\u0027label\u0027: u\u0027Montréal\u0027, \u0027value\u0027: \u0027MTL\u0027},\n                {\u0027label\u0027: \u0027San Francisco\u0027, \u0027value\u0027: \u0027SF\u0027}\n            ],\n            value\u003d\u0027MTL\u0027\n        ),\n    \n        html.Label(\u0027Checkboxes\u0027),\n        dcc.Checklist(\n            options\u003d[\n                {\u0027label\u0027: \u0027New York City\u0027, \u0027value\u0027: \u0027NYC\u0027},\n                {\u0027label\u0027: u\u0027Montréal\u0027, \u0027value\u0027: \u0027MTL\u0027},\n                {\u0027label\u0027: \u0027San Francisco\u0027, \u0027value\u0027: \u0027SF\u0027}\n            ],\n            values\u003d[\u0027MTL\u0027, \u0027SF\u0027]\n        ),\n    \n        html.Label(\u0027Text Input\u0027),\n        dcc.Input(value\u003d\u0027MTL\u0027, type\u003d\u0027text\u0027),\n    \n        html.Label(\u0027Slider\u0027),\n        dcc.Slider(\n            min\u003d0,\n            max\u003d9,\n            marks\u003d{i: \u0027Label {}\u0027.format(i) if i \u003d\u003d 1 else str(i) for i in range(1, 6)},\n            value\u003d5,\n        ),\n    ], style\u003d{\u0027columnCount\u0027: 2})\n```",
      "metadata": {
        "pycharm": {
          "metadata": false
        }
      }
    },
    {
      "cell_type": "markdown",
      "source": "## Basic Dash Callbacks\nSimilarly to _R Shiny_ we need to comunicate objcts between the client and server and viceversa.\nTo do this we import `Input` and `Output` from `dash.dependencies` library.\n### Load the required libraries\n```python\nfrom dash.dependencies import Input, Output\n```\n",
      "metadata": {
        "pycharm": {
          "metadata": false
        }
      }
    },
    {
      "cell_type": "markdown",
      "source": "### Update the content of a Div\nWe give a identifier, `my-dropdown`, to the dropdown control\n```python\n    html.Label(\u0027Dropdown\u0027),\n            dcc.Dropdown(\n                id\u003d\u0027my-dropdown\u0027,\n                options\u003d opt_vore,\n                value\u003d df_vore[0]\n            ),\n```\n\nand we add a `html.Div`, with identifier `my-div`, to the layout\nbefore le list of widgets, substituting the table. We add to it some formitting styles.\n```python\n    html.Div(id\u003d\u0027my-div\u0027,\n             style\u003d{\n                 \u0027background\u0027 : \u0027yellow\u0027,\n                 \u0027color\u0027 : \u0027blue\u0027\n             }),\n```\n\nFinally we add then the call back function, after the definition of the `app.layout`\nthat receives the input from the Dropdown manu and update as output the condent of the Div.\n\n```python\n@app.callback(\n    Output(component_id\u003d\u0027my-div\u0027, component_property\u003d\u0027children\u0027),\n    [Input(component_id\u003d\u0027my-dropdown\u0027, component_property\u003d\u0027value\u0027)]\n)\ndef update_output_div(input_value):\n    return \u0027You\\\u0027ve entered \"{}\"\u0027.format(input_value)\n```\n",
      "metadata": {
        "pycharm": {
          "metadata": false,
          "name": "#%% md\n"
        }
      }
    },
    {
      "cell_type": "markdown",
      "source": "### Update the content Graph \nFirst we copy  the content of the `dcc.Graph.figure` \nand return it from a new function that we call\n`update_output_graph`.\nWe slightly modify the definition of `data`\n```python\n@app.callback(\n    Output(component_id\u003d\u0027my-graph\u0027, component_property\u003d\u0027figure\u0027),\n    [Input(component_id\u003d\u0027my-dropdown\u0027, component_property\u003d\u0027value\u0027)]\n)\ndef update_output_graph(input_value):\n    return  {\n                \u0027data\u0027: [\n                    go.Scatter(\n                        x\u003ddf[df[\u0027vore\u0027] \u003d\u003d i][\u0027bodywt\u0027] if i \u003d\u003d input_value else [],\n                        y\u003ddf[df[\u0027vore\u0027] \u003d\u003d i][\u0027sleep_total\u0027] if i \u003d\u003d input_value else [],\n                        text\u003ddf[df[\u0027vore\u0027] \u003d\u003d i][\u0027name\u0027],\n                        mode\u003d\u0027markers\u0027,\n                        opacity\u003d0.7,\n                        marker\u003d{\n                            \u0027size\u0027: 15,\n                            \u0027line\u0027: {\u0027width\u0027: 0.5, \u0027color\u0027: \u0027white\u0027}\n                        },\n                        name\u003di\n                    ) for i in df_vore\n                ],\n                \u0027layout\u0027: go.Layout(\n                    xaxis\u003d{\u0027type\u0027: \u0027log\u0027, \u0027title\u0027: \u0027Body weight (kg)\u0027},\n                    yaxis\u003d{\u0027title\u0027: \u0027Total daily sleep time (hr)\u0027},\n                    margin\u003d{\u0027l\u0027: 40, \u0027b\u0027: 40, \u0027t\u0027: 10, \u0027r\u0027: 10},\n                    legend\u003d{\u0027x\u0027: 0, \u0027y\u0027: 1},\n                    hovermode\u003d\u0027closest\u0027\n                )\n            }\n```\n\nand remove this information from the Graph component in the layuot,\nmaking also sure that the `id` property is properly set.\n```python\n    dcc.Graph(id\u003d\u0027my-graph\u0027),\n```\n",
      "metadata": {
        "pycharm": {
          "metadata": false,
          "name": "#%% md\n"
        }
      }
    },
    {
      "cell_type": "markdown",
      "source": "### Using the Multiple selection\n\nLet us remove the Dropdown, the`html.Div` and\nadd the identifier `id\u003d\u0027my-multi-dropdown\u0027` to the Multi-Select Dropdown.\n\nThen update the function `update_output_graph` as in the following\n```python\n@app.callback(\n    Output(component_id\u003d\u0027my-graph\u0027, component_property\u003d\u0027figure\u0027),\n    [Input(component_id\u003d\u0027my-multi-dropdown\u0027, component_property\u003d\u0027value\u0027)]\n)\ndef update_output_graph(input_value):\n    return  {\n                \u0027data\u0027: [\n                    go.Scatter(\n                        x\u003ddf[df[\u0027vore\u0027] \u003d\u003d i][\u0027bodywt\u0027] if i in input_value else [],\n                        y\u003ddf[df[\u0027vore\u0027] \u003d\u003d i][\u0027sleep_total\u0027] if i in input_value else [],\n                        text\u003ddf[df[\u0027vore\u0027] \u003d\u003d i][\u0027name\u0027],\n                        mode\u003d\u0027markers\u0027,\n                        opacity\u003d0.7,\n                        marker\u003d{\n                            \u0027size\u0027: 15,\n                            \u0027line\u0027: {\u0027width\u0027: 0.5, \u0027color\u0027: \u0027white\u0027}\n                        },\n                        name\u003di\n                    ) for i in df_vore\n                ],\n                \u0027layout\u0027: go.Layout(\n                    xaxis\u003d{\u0027type\u0027: \u0027log\u0027, \u0027title\u0027: \u0027Body weight (kg)\u0027},\n                    yaxis\u003d{\u0027title\u0027: \u0027Total daily sleep time (hr)\u0027},\n                    margin\u003d{\u0027l\u0027: 40, \u0027b\u0027: 40, \u0027t\u0027: 10, \u0027r\u0027: 10},\n                    legend\u003d{\u0027x\u0027: 0, \u0027y\u0027: 1},\n                    hovermode\u003d\u0027closest\u0027\n                )\n            }\n```\n",
      "metadata": {
        "pycharm": {
          "metadata": false,
          "name": "#%% md\n"
        }
      }
    },
    {
      "cell_type": "markdown",
      "source": "### Using Multiple Outputs\n\nWe now add a new graph that shows the boxplot of the total sleep time for the selected type of mammals.\n\nA list of possible chart available is accessible in the following link\n[Statistical Charts](https://plot.ly/python/statistical-charts/)\n\nWe first add a `dcc.Graph` in the layout after the one with `id\u003d\u0027my-graph\u0027`\n```python\n    dcc.Graph(id\u003d\u0027my-box-plot\u0027),\n```\n\nThen we update the function `update_output_graph`to add the data to the graph\n`my-box-plot`. Here it is the complete function modified\n```python\n@app.callback(\n    [Output(\u0027my-graph\u0027, \u0027figure\u0027),\n     Output(\u0027my-box-plot\u0027, \u0027figure\u0027),],\n    [Input(\u0027my-multi-dropdown\u0027, \u0027value\u0027)]\n)\ndef update_output_graph(input_value):\n    return  {\n                \u0027data\u0027: [\n                    go.Scatter(\n                        x\u003ddf[df[\u0027vore\u0027] \u003d\u003d i][\u0027bodywt\u0027] if i in input_value else [],\n                        y\u003ddf[df[\u0027vore\u0027] \u003d\u003d i][\u0027sleep_total\u0027] if i in input_value else [],\n                        text\u003ddf[df[\u0027vore\u0027] \u003d\u003d i][\u0027name\u0027],\n                        mode\u003d\u0027markers\u0027,\n                        opacity\u003d0.7,\n                        marker\u003d{\n                            \u0027size\u0027: 15,\n                            \u0027line\u0027: {\u0027width\u0027: 0.5, \u0027color\u0027: \u0027white\u0027}\n                        },\n                        name\u003di\n                    ) for i in df_vore\n                ],\n                \u0027layout\u0027: go.Layout(\n                    xaxis\u003d{\u0027type\u0027: \u0027log\u0027, \u0027title\u0027: \u0027Body weight (kg)\u0027},\n                    yaxis\u003d{\u0027title\u0027: \u0027Total daily sleep time (hr)\u0027},\n                    margin\u003d{\u0027l\u0027: 40, \u0027b\u0027: 40, \u0027t\u0027: 10, \u0027r\u0027: 10},\n                    legend\u003d{\u0027x\u0027: 0, \u0027y\u0027: 1},\n                    hovermode\u003d\u0027closest\u0027\n                )\n            },            {\n                \u0027data\u0027: [ go.Box(\n                            y\u003d df[df[\u0027vore\u0027] \u003d\u003d i][\u0027sleep_total\u0027],\n                            name\u003d i + \u0027vore\u0027\n                        ) if i in input_value else []\n                          for i in df_vore ]\n            }\n```\n",
      "metadata": {
        "pycharm": {
          "metadata": false,
          "name": "#%% md\n"
        }
      }
    },
    {
      "cell_type": "markdown",
      "source": "### Chained Callbacks\n\nWe remove all input widget besides the Slider that we call\n`my-slider`, and we modify like this\n\n```python\n        html.Label(\u0027Slider\u0027),\n        html.Div(\n            dcc.RangeSlider(\n                id\u003d\u0027my-slider\u0027,\n                step\u003d 0.1\n            ),\n            style\u003d{\n                \u0027margin\u0027: \u002710%\u0027\n            }\n        ),\n```\n\nThen we create a callback function to handle its attributes\n```python\n@app.callback(\n    [Output(\u0027my-slider\u0027, \u0027min\u0027), Output(\u0027my-slider\u0027, \u0027max\u0027), Output(\u0027my-slider\u0027, \u0027value\u0027), Output(\u0027my-slider\u0027, \u0027marks\u0027)],\n    [Input(\u0027my-multi-dropdown\u0027, \u0027value\u0027)]\n)\ndef update_slider(input_value):\n    def round(x):\n        return int(x) if x % 0.1 \u003c 0.1 else x\n    data \u003d df[df.vore.isin(input_value)][\u0027sleep_total\u0027]\n    min \u003d round(data.min())\n    max \u003d round(data.max())\n    mean \u003d round(data.mean())\n    low \u003d round((min + mean)/2)\n    high \u003d round((max + mean) / 2)\n    marks \u003d {min: {\u0027label\u0027: min, \u0027style\u0027: {\u0027color\u0027: \u0027#77b0b1\u0027}},\n             max: {\u0027label\u0027: max, \u0027style\u0027: {\u0027color\u0027: \u0027#77b0b1\u0027}}}\n    return min, max,  [low, high], marks\n```\n\nand finally we filter the `my-graph` data according to the Slider Range.\n```python\n@app.callback(\n    [Output(\u0027my-graph\u0027, \u0027figure\u0027),\n     Output(\u0027my-box-plot\u0027, \u0027figure\u0027),],\n    [Input(\u0027my-multi-dropdown\u0027, \u0027value\u0027), Input(\u0027my-slider\u0027, \u0027value\u0027)]\n)\ndef update_output_graph(input_value, slider_range):\n    if (len(slider_range) \u003d\u003d 2):\n        l, h \u003d slider_range\n    else :\n        l, h \u003d 0, 100;\n    data_filtered \u003d df[df[\u0027sleep_total\u0027].between(l,h)]\n    return  {\n                \u0027data\u0027: [\n                    go.Scatter(\n                        x\u003ddata_filtered[data_filtered[\u0027vore\u0027] \u003d\u003d i][\u0027bodywt\u0027] if i in input_value else [],\n                        y\u003ddata_filtered[data_filtered[\u0027vore\u0027] \u003d\u003d i][\u0027sleep_total\u0027] if i in input_value else [],\n                        text\u003ddf[df[\u0027vore\u0027] \u003d\u003d i][\u0027name\u0027],\n                        mode\u003d\u0027markers\u0027,\n                        opacity\u003d0.7,\n                        marker\u003d{\n                            \u0027size\u0027: 15,\n                            \u0027line\u0027: {\u0027width\u0027: 0.5, \u0027color\u0027: \u0027white\u0027}\n                        },\n                        name\u003di\n                    ) for i in df_vore\n                ], ...\n```\n",
      "metadata": {
        "pycharm": {
          "metadata": false
        }
      }
    },
    {
      "cell_type": "markdown",
      "source": "### Dash State\n\nDash include the reactive object `State` to keep informed of a callback function of some reactive information \nwithout the need to invoke events for it.\n\nFor example we add a button nearby our slide, like this\n```python\n        html.Div([\n            html.Div(\n                dcc.RangeSlider(\n                    id\u003d\u0027my-slider\u0027,\n                    min\u003d 0, max\u003d 100, value\u003d[0,100],\n                    step\u003d 0.1,\n                ),\n                style\u003d{\n                    \u0027width\u0027: \u002760%\u0027,\n                    \u0027display\u0027: \u0027inline-block\u0027,\n                    \u0027paddingLeft\u0027: \u002710%\u0027,\n                    \u0027paddingRight\u0027: \u002710%\u0027\n                }\n            ),\n            html.Button(\u0027Update filter\u0027, id\u003d\u0027my-button\u0027)\n        ],\n            style\u003d{\n                \u0027marginTop\u0027: \u00275%\u0027,\n                \u0027marginBottom\u0027: \u00275%\u0027\n            }\n        )\n```\n\nand we load the `State`object from the `dash.dependencies` library\n```python\nfrom dash.dependencies import Input, Output, State\n```\n\nthen we modify the decorator and the definition of the callback function `update_output_graph` as follows\n```python\n@app.callback(\n    [Output(\u0027my-graph\u0027, \u0027figure\u0027),\n     Output(\u0027my-box-plot\u0027, \u0027figure\u0027),],\n    [Input(\u0027my-multi-dropdown\u0027, \u0027value\u0027),\n     Input(\u0027my-button\u0027, \u0027n_clicks\u0027)],\n    [State(\u0027my-slider\u0027, \u0027value\u0027)]\n)\ndef update_output_graph(input_value, n_clicks, slider_range):\n```\n\n",
      "metadata": {
        "pycharm": {
          "metadata": false
        }
      }
    }
  ],
  "metadata": {
    "language_info": {
      "codemirror_mode": {
        "name": "ipython",
        "version": 2
      },
      "file_extension": ".py",
      "mimetype": "text/x-python",
      "name": "python",
      "nbconvert_exporter": "python",
      "pygments_lexer": "ipython2",
      "version": "2.7.6"
    },
    "kernelspec": {
      "name": "python3",
      "language": "python",
      "display_name": "Python 3"
    }
  },
  "nbformat": 4,
  "nbformat_minor": 0
}