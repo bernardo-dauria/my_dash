{
  "cells": [
    {
      "cell_type": "markdown",
      "metadata": {
        "collapsed": true,
        "pycharm": {
          "name": "#%% md\n"
        }
      },
      "source": "# Dash Python - Introduction\n\n[Dash website](https://dash.plot.ly/)  \n[Dash tutorial](https://dash.plot.ly/installation)"
    },
    {
      "cell_type": "markdown",
      "source": "## Dash installation\nInstall the required packages\n```bash\npip install dash\u003d\u003d0.39.0  # The core dash backend\npip install dash-html-components\u003d\u003d0.14.0  # HTML components\npip install dash-core-components\u003d\u003d0.44.0  # Supercharged components\npip install dash-table\u003d\u003d3.6.0  # Interactive DataTable component (new!)\npip install dash-daq\u003d\u003d0.1.0  # DAQ components (newly open-sourced!)\n``` ",
      "metadata": {
        "pycharm": {
          "metadata": false
        }
      }
    },
    {
      "cell_type": "markdown",
      "source": "## Dash layout\nCreate a python file `app.py`\n### Load the required libraries\n```python\nimport dash\nimport dash_core_components as dcc\nimport dash_html_components as html\n```\n\nCreate the app object, you can pass an external stylesheet object to it\n\n```python\nexternal_stylesheets \u003d [\u0027https://codepen.io/chriddyp/pen/bWLwgP.css\u0027]\napp \u003d dash.Dash(__name__, external_stylesheets\u003dexternal_stylesheets)\n\nif __name__ \u003d\u003d \u0027__main__\u0027:\n    app.run_server(debug\u003dTrue)\n```\nThe option `debug\u003dTrue` activates the \"hot-reloading\" feature.\nhas is Dash is going to monitor if you app is changed and immediately refresh your browser\nto show changes on the client. \n\nAdd a `layout` to the app object by using HTML and Supercharged components\n\n```python\napp.layout \u003d html.Div(children\u003d[\n    html.H1(children\u003d\u0027Hello Dash\u0027),\n\n    html.Div(children\u003d\u0027\u0027\u0027\n        Dash: A web application framework for Python.\n    \u0027\u0027\u0027),\n\n    dcc.Graph(\n        id\u003d\u0027example-graph\u0027,\n        figure\u003d{\n            \u0027data\u0027: [\n                {\u0027x\u0027: [1, 2, 3], \u0027y\u0027: [4, 1, 2], \u0027type\u0027: \u0027bar\u0027, \u0027name\u0027: \u0027SF\u0027},\n                {\u0027x\u0027: [1, 2, 3], \u0027y\u0027: [2, 4, 5], \u0027type\u0027: \u0027bar\u0027, \u0027name\u0027: u\u0027Montréal\u0027},\n            ],\n            \u0027layout\u0027: {\n                \u0027title\u0027: \u0027Dash Data Visualization\u0027\n            }\n        }\n    )\n])\n```\n\nThen run the app.\n\n```bash\n$ python app.py\n...Running on http://127.0.0.1:8050/ (Press CTRL+C to quit)\n```\n\nBy default, it will listen on the `localhost` at port `8050`.",
      "metadata": {
        "pycharm": {
          "metadata": false
        }
      }
    },
    {
      "cell_type": "markdown",
      "source": "### Adding style to HTML components\n```python\ncolors \u003d {\n    \u0027background\u0027: \u0027#111111\u0027,\n    \u0027text\u0027: \u0027#7FDBFF\u0027\n}\n\napp.layout \u003d html.Div(style\u003d{\u0027backgroundColor\u0027: colors[\u0027background\u0027]}, children\u003d[\n    html.H1(\n        children\u003d\u0027Hello Dash\u0027,\n        style\u003d{\n            \u0027textAlign\u0027: \u0027center\u0027,\n            \u0027color\u0027: colors[\u0027text\u0027]\n        }\n    ),\n\n    html.Div(children\u003d\u0027Dash: A web application framework for Python.\u0027, style\u003d{\n        \u0027textAlign\u0027: \u0027center\u0027,\n        \u0027color\u0027: colors[\u0027text\u0027]\n    }),\n\n    dcc.Graph(\n        id\u003d\u0027example-graph-2\u0027,\n        figure\u003d{\n            \u0027data\u0027: [\n                {\u0027x\u0027: [1, 2, 3], \u0027y\u0027: [4, 1, 2], \u0027type\u0027: \u0027bar\u0027, \u0027name\u0027: \u0027SF\u0027},\n                {\u0027x\u0027: [1, 2, 3], \u0027y\u0027: [2, 4, 5], \u0027type\u0027: \u0027bar\u0027, \u0027name\u0027: u\u0027Montréal\u0027},\n            ],\n            \u0027layout\u0027: {\n                \u0027plot_bgcolor\u0027: colors[\u0027background\u0027],\n                \u0027paper_bgcolor\u0027: colors[\u0027background\u0027],\n                \u0027font\u0027: {\n                    \u0027color\u0027: colors[\u0027text\u0027]\n                }\n            }\n        }\n    )\n])\n\n```\n\nRemind that styles are:\n- given as a `dictionary`  \n- in camelCased form: use `textAlign` for \"text-align\"  \n\nUse `className` property to refer to HTML `class`\n",
      "metadata": {
        "pycharm": {
          "metadata": false
        }
      }
    },
    {
      "cell_type": "markdown",
      "source": "## Adding Reusable Components\n\nWe start by reading some data\n```python\nimport pandas as pd\n\ndf \u003d pd.read_csv(\n    \u0027https://forge.scilab.org/index.php/p/rdataset/\u0027\n    \u0027source/tree/master/csv/ggplot2/msleep.csv\u0027)\n```\n\nto write a function that given a dataset prints an HTML table\n```python\ndef generate_table(dataframe, max_rows\u003d10):\n    return html.Table(\n        # Header\n        [html.Tr([html.Th(col) for col in dataframe.columns])] +\n\n        # Body\n        [html.Tr([\n            html.Td(dataframe.iloc[i][col]) for col in dataframe.columns\n        ]) for i in range(min(len(dataframe), max_rows))]\n    )\n```\n\nand then we add it at the end of our layout\n```python\n    generate_table(df)\n```\n",
      "metadata": {
        "pycharm": {
          "metadata": false,
          "name": "#%% md\n"
        }
      }
    }
  ],
  "metadata": {
    "language_info": {
      "codemirror_mode": {
        "name": "ipython",
        "version": 2
      },
      "file_extension": ".py",
      "mimetype": "text/x-python",
      "name": "python",
      "nbconvert_exporter": "python",
      "pygments_lexer": "ipython2",
      "version": "2.7.6"
    },
    "kernelspec": {
      "name": "python3",
      "language": "python",
      "display_name": "Python 3"
    }
  },
  "nbformat": 4,
  "nbformat_minor": 0
}