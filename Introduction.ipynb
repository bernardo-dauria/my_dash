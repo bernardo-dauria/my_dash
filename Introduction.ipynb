{
  "cells": [
    {
      "cell_type": "markdown",
      "metadata": {
        "collapsed": true,
        "pycharm": {
          "name": "#%% md\n"
        }
      },
      "source": "# Dash Python - Introduction\n\n[Dash website](https://dash.plot.ly/)  \n[Dash tutorial](https://dash.plot.ly/installation)"
    },
    {
      "cell_type": "markdown",
      "source": "## Dash installation\nInstall the required packages\n```bash\npip install dash\u003d\u003d0.39.0  # The core dash backend\npip install dash-html-components\u003d\u003d0.14.0  # HTML components\npip install dash-core-components\u003d\u003d0.44.0  # Supercharged components\npip install dash-table\u003d\u003d3.6.0  # Interactive DataTable component (new!)\npip install dash-daq\u003d\u003d0.1.0  # DAQ components (newly open-sourced!)\n``` \n",
      "metadata": {
        "pycharm": {
          "metadata": false
        }
      }
    }
  ],
  "metadata": {
    "language_info": {
      "codemirror_mode": {
        "name": "ipython",
        "version": 2
      },
      "file_extension": ".py",
      "mimetype": "text/x-python",
      "name": "python",
      "nbconvert_exporter": "python",
      "pygments_lexer": "ipython2",
      "version": "2.7.6"
    },
    "kernelspec": {
      "name": "python3",
      "language": "python",
      "display_name": "Python 3"
    }
  },
  "nbformat": 4,
  "nbformat_minor": 0
}